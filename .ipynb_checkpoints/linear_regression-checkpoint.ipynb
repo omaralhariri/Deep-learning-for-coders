{
 "cells": [
  {
   "cell_type": "code",
   "execution_count": 35,
   "id": "5ee029f6",
   "metadata": {},
   "outputs": [],
   "source": [
    "import torch as t\n",
    "import pandas as pd\n",
    "\n",
    "data = pd.read_table(\"ex1data1.txt\", sep=\",\", header=None)"
   ]
  },
  {
   "cell_type": "code",
   "execution_count": 38,
   "id": "cba8f0cf",
   "metadata": {},
   "outputs": [],
   "source": [
    "x = data.iloc[:, 0:-1]\n",
    "y = data.iloc[:, -1:]"
   ]
  },
  {
   "cell_type": "code",
   "execution_count": 48,
   "id": "324ab14f",
   "metadata": {},
   "outputs": [],
   "source": [
    "m, n = x.shape"
   ]
  },
  {
   "cell_type": "code",
   "execution_count": null,
   "id": "89b8700f",
   "metadata": {},
   "outputs": [],
   "source": [
    "x = t."
   ]
  }
 ],
 "metadata": {
  "kernelspec": {
   "display_name": "Python 3",
   "language": "python",
   "name": "python3"
  },
  "language_info": {
   "codemirror_mode": {
    "name": "ipython",
    "version": 3
   },
   "file_extension": ".py",
   "mimetype": "text/x-python",
   "name": "python",
   "nbconvert_exporter": "python",
   "pygments_lexer": "ipython3",
   "version": "3.8.10"
  }
 },
 "nbformat": 4,
 "nbformat_minor": 5
}
